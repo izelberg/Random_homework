{
 "cells": [
  {
   "cell_type": "markdown",
   "metadata": {},
   "source": [
    "Домашнее задание к лекции «Случайные события. Случайные величины»\n",
    "Смоделировать игру против лотерейного автомата типа “777”. Игрок платит 1 руб., после чего выпадает случайное целое число, равномерно распределенное от 0 до 999. При некоторых значениях числа игрок получает выигрыш (см. справа)\n",
    "Выгодна ли игра игроку?\n",
    "Сколько в среднем приобретает\n",
    "или теряет игрок за одну игру?\n",
    "777: 200 руб.\n",
    "999: 100 руб.\n",
    "555: 50 руб.\n",
    "333: 15 руб.\n",
    "111: 10 руб.\n",
    "*77: 5 руб.\n",
    "**7: 3 руб.\n",
    "*00: 2 руб.\n",
    "**0: 1 руб.\n",
    "* любая цифра\n",
    "Дополнительное задание повышенной сложности. \n",
    "Теоретически рассчитать средний выигрыш (проигрыш) и сравнить с результатами моделирования"
   ]
  },
  {
   "cell_type": "code",
   "execution_count": 1,
   "metadata": {},
   "outputs": [],
   "source": [
    "import numpy as np"
   ]
  },
  {
   "cell_type": "code",
   "execution_count": 7,
   "metadata": {},
   "outputs": [
    {
     "data": {
      "text/plain": [
       "510"
      ]
     },
     "execution_count": 7,
     "metadata": {},
     "output_type": "execute_result"
    }
   ],
   "source": [
    "np.random.randint(0, 999)"
   ]
  },
  {
   "cell_type": "code",
   "execution_count": 77,
   "metadata": {},
   "outputs": [
    {
     "name": "stdout",
     "output_type": "stream",
     "text": [
      "Выпало - 768, Выигрыш - 0\n"
     ]
    }
   ],
   "source": [
    "def calc_gain(turn):\n",
    "    if turn == 999:\n",
    "        gain = 100\n",
    "    elif turn == 777:\n",
    "        gain = 200\n",
    "    elif turn == 555:\n",
    "        gain = 50\n",
    "    elif turn == 333:\n",
    "        gain = 15\n",
    "    elif turn == 111:\n",
    "        gain = 10\n",
    "    elif turn % 100 == 77:\n",
    "        gain = 5\n",
    "    elif turn % 10 == 7:\n",
    "        gain = 3\n",
    "    elif turn % 100 == 0:\n",
    "        gain = 2\n",
    "    elif turn % 10 == 0:\n",
    "        gain = 1\n",
    "    else:\n",
    "        gain = 0\n",
    "    return gain\n",
    "\n",
    "turn = np.random.randint(0, 999)\n",
    "\n",
    "print(f'Выпало - {turn}, Выигрыш - {calc_gain(turn)}')"
   ]
  },
  {
   "cell_type": "code",
   "execution_count": 99,
   "metadata": {},
   "outputs": [
    {
     "name": "stdout",
     "output_type": "stream",
     "text": [
      "Введите число попыток 1000\n",
      "Расход - 1000, Выигрыш - 735, Доход - -265, Средний выигрыш - -0.265\n"
     ]
    }
   ],
   "source": [
    "gross_total = 0\n",
    "pay = 0\n",
    "number = int(input(\"Введите число попыток \"))\n",
    "while pay < number:\n",
    "    pay += 1\n",
    "    turn = np.random.randint(0, 999)\n",
    "    gain = calc_gain(turn)\n",
    "    gross_total += gain\n",
    "    #print(f'Выпало - {turn}, Выигрыш - {gain}, Общий выигрыш - {gross_total}') Промежуточная проверка, что работает в цикле верно\n",
    "profit = gross_total - pay\n",
    "gain_ave = profit/number\n",
    "print(f'Расход - {pay}, Выигрыш - {gross_total}, Доход - {profit}, Средний выигрыш - {gain_ave}')\n",
    "    "
   ]
  },
  {
   "cell_type": "code",
   "execution_count": 98,
   "metadata": {},
   "outputs": [
    {
     "data": {
      "text/plain": [
       "-0.19999999999999996"
      ]
     },
     "execution_count": 98,
     "metadata": {},
     "output_type": "execute_result"
    }
   ],
   "source": [
    "# Теоретический средний выигрыш по формуле полной вероятности\n",
    "gain_ave_check = (200*(1/1000)+100*(1/1000)+50*(1/1000)+15*(1/1000)+10*(1/1000)+\n",
    "                  5*((10-1)/1000)+3*((100-10)/1000)+2*((10)/1000)+1*((100-10)/1000))-1\n",
    "gain_ave_check"
   ]
  },
  {
   "cell_type": "code",
   "execution_count": null,
   "metadata": {},
   "outputs": [],
   "source": []
  },
  {
   "cell_type": "code",
   "execution_count": null,
   "metadata": {},
   "outputs": [],
   "source": []
  },
  {
   "cell_type": "code",
   "execution_count": null,
   "metadata": {},
   "outputs": [],
   "source": []
  }
 ],
 "metadata": {
  "kernelspec": {
   "display_name": "Python 3",
   "language": "python",
   "name": "python3"
  },
  "language_info": {
   "codemirror_mode": {
    "name": "ipython",
    "version": 3
   },
   "file_extension": ".py",
   "mimetype": "text/x-python",
   "name": "python",
   "nbconvert_exporter": "python",
   "pygments_lexer": "ipython3",
   "version": "3.8.5"
  }
 },
 "nbformat": 4,
 "nbformat_minor": 4
}
